{
 "cells": [
  {
   "cell_type": "code",
   "execution_count": 1,
   "metadata": {
    "_cell_guid": "b1076dfc-b9ad-4769-8c92-a6c4dae69d19",
    "_uuid": "8f2839f25d086af736a60e9eeb907d3b93b6e0e5",
    "execution": {
     "iopub.execute_input": "2022-08-31T20:23:04.388150Z",
     "iopub.status.busy": "2022-08-31T20:23:04.387787Z",
     "iopub.status.idle": "2022-08-31T20:23:04.427346Z",
     "shell.execute_reply": "2022-08-31T20:23:04.426745Z",
     "shell.execute_reply.started": "2022-08-31T20:23:04.388079Z"
    }
   },
   "outputs": [],
   "source": [
    "import pandas as pd"
   ]
  },
  {
   "cell_type": "code",
   "execution_count": 61,
   "metadata": {
    "execution": {
     "iopub.execute_input": "2022-08-31T20:44:36.963767Z",
     "iopub.status.busy": "2022-08-31T20:44:36.963201Z",
     "iopub.status.idle": "2022-08-31T20:44:36.996916Z",
     "shell.execute_reply": "2022-08-31T20:44:36.996293Z",
     "shell.execute_reply.started": "2022-08-31T20:44:36.963740Z"
    }
   },
   "outputs": [],
   "source": [
    "df=pd.read_csv('healthcare-dataset-stroke-data.csv')\n",
    "df"
   ]
  },
  {
   "cell_type": "code",
   "execution_count": 62,
   "metadata": {
    "execution": {
     "iopub.execute_input": "2022-08-31T20:44:41.354418Z",
     "iopub.status.busy": "2022-08-31T20:44:41.353735Z",
     "iopub.status.idle": "2022-08-31T20:44:41.382408Z",
     "shell.execute_reply": "2022-08-31T20:44:41.380750Z",
     "shell.execute_reply.started": "2022-08-31T20:44:41.354391Z"
    }
   },
   "outputs": [],
   "source": [
    "df.describe()"
   ]
  },
  {
   "cell_type": "code",
   "execution_count": 66,
   "metadata": {
    "execution": {
     "iopub.execute_input": "2022-08-31T20:44:52.354556Z",
     "iopub.status.busy": "2022-08-31T20:44:52.353904Z",
     "iopub.status.idle": "2022-08-31T20:44:52.365993Z",
     "shell.execute_reply": "2022-08-31T20:44:52.364820Z",
     "shell.execute_reply.started": "2022-08-31T20:44:52.354520Z"
    }
   },
   "outputs": [],
   "source": [
    "df.isna().sum()"
   ]
  },
  {
   "cell_type": "code",
   "execution_count": 64,
   "metadata": {
    "execution": {
     "iopub.execute_input": "2022-08-31T20:44:45.447497Z",
     "iopub.status.busy": "2022-08-31T20:44:45.446258Z",
     "iopub.status.idle": "2022-08-31T20:44:45.457157Z",
     "shell.execute_reply": "2022-08-31T20:44:45.456086Z",
     "shell.execute_reply.started": "2022-08-31T20:44:45.447460Z"
    }
   },
   "outputs": [],
   "source": [
    "df['bmi'].fillna(df['bmi'].mean(),inplace=True)\n",
    "df['bmi']"
   ]
  },
  {
   "cell_type": "code",
   "execution_count": 65,
   "metadata": {
    "execution": {
     "iopub.execute_input": "2022-08-31T20:44:48.073371Z",
     "iopub.status.busy": "2022-08-31T20:44:48.073046Z",
     "iopub.status.idle": "2022-08-31T20:44:48.081866Z",
     "shell.execute_reply": "2022-08-31T20:44:48.080650Z",
     "shell.execute_reply.started": "2022-08-31T20:44:48.073347Z"
    }
   },
   "outputs": [],
   "source": [
    "categorical= df.select_dtypes(\"object\").columns\n",
    "categorical"
   ]
  },
  {
   "cell_type": "code",
   "execution_count": 67,
   "metadata": {
    "execution": {
     "iopub.execute_input": "2022-08-31T20:44:56.983776Z",
     "iopub.status.busy": "2022-08-31T20:44:56.983451Z",
     "iopub.status.idle": "2022-08-31T20:44:57.011102Z",
     "shell.execute_reply": "2022-08-31T20:44:57.010023Z",
     "shell.execute_reply.started": "2022-08-31T20:44:56.983752Z"
    }
   },
   "outputs": [],
   "source": [
    "from sklearn.preprocessing import LabelEncoder\n",
    "le=LabelEncoder()\n",
    "for i in categorical:\n",
    "    df[i]=le.fit_transform(df[i])\n",
    "df"
   ]
  },
  {
   "cell_type": "code",
   "execution_count": 68,
   "metadata": {
    "execution": {
     "iopub.execute_input": "2022-08-31T20:44:57.474436Z",
     "iopub.status.busy": "2022-08-31T20:44:57.473672Z",
     "iopub.status.idle": "2022-08-31T20:44:57.477459Z",
     "shell.execute_reply": "2022-08-31T20:44:57.476885Z",
     "shell.execute_reply.started": "2022-08-31T20:44:57.474411Z"
    }
   },
   "outputs": [],
   "source": [
    "from featurewiz import featurewiz as ftwz"
   ]
  },
  {
   "cell_type": "code",
   "execution_count": 69,
   "metadata": {
    "execution": {
     "iopub.execute_input": "2022-08-31T20:44:58.063909Z",
     "iopub.status.busy": "2022-08-31T20:44:58.063543Z",
     "iopub.status.idle": "2022-08-31T20:44:59.264423Z",
     "shell.execute_reply": "2022-08-31T20:44:59.263746Z",
     "shell.execute_reply.started": "2022-08-31T20:44:58.063883Z"
    }
   },
   "outputs": [],
   "source": [
    "target=['stroke']\n",
    "features,train=ftwz(df,target,corr_score=0.7)"
   ]
  },
  {
   "cell_type": "code",
   "execution_count": 70,
   "metadata": {
    "execution": {
     "iopub.execute_input": "2022-08-31T20:44:59.268205Z",
     "iopub.status.busy": "2022-08-31T20:44:59.267555Z",
     "iopub.status.idle": "2022-08-31T20:44:59.274579Z",
     "shell.execute_reply": "2022-08-31T20:44:59.273649Z",
     "shell.execute_reply.started": "2022-08-31T20:44:59.268177Z"
    }
   },
   "outputs": [],
   "source": [
    "features"
   ]
  },
  {
   "cell_type": "code",
   "execution_count": 71,
   "metadata": {
    "execution": {
     "iopub.execute_input": "2022-08-31T20:44:59.276930Z",
     "iopub.status.busy": "2022-08-31T20:44:59.275736Z",
     "iopub.status.idle": "2022-08-31T20:44:59.285933Z",
     "shell.execute_reply": "2022-08-31T20:44:59.284792Z",
     "shell.execute_reply.started": "2022-08-31T20:44:59.276882Z"
    }
   },
   "outputs": [],
   "source": [
    "X=df[features]\n",
    "y=df['stroke']"
   ]
  },
  {
   "cell_type": "code",
   "execution_count": 72,
   "metadata": {
    "execution": {
     "iopub.execute_input": "2022-08-31T20:44:59.603735Z",
     "iopub.status.busy": "2022-08-31T20:44:59.602836Z",
     "iopub.status.idle": "2022-08-31T20:44:59.610117Z",
     "shell.execute_reply": "2022-08-31T20:44:59.609027Z",
     "shell.execute_reply.started": "2022-08-31T20:44:59.603694Z"
    }
   },
   "outputs": [],
   "source": [
    "from sklearn.model_selection import train_test_split\n",
    "X_train,X_test,y_train,y_test=train_test_split(X,y,test_size=0.3,random_state=43)"
   ]
  },
  {
   "cell_type": "code",
   "execution_count": 73,
   "metadata": {
    "execution": {
     "iopub.execute_input": "2022-08-31T20:45:03.844312Z",
     "iopub.status.busy": "2022-08-31T20:45:03.843455Z",
     "iopub.status.idle": "2022-08-31T20:45:03.851329Z",
     "shell.execute_reply": "2022-08-31T20:45:03.850285Z",
     "shell.execute_reply.started": "2022-08-31T20:45:03.844275Z"
    }
   },
   "outputs": [],
   "source": [
    "X_train.shape"
   ]
  },
  {
   "cell_type": "code",
   "execution_count": 74,
   "metadata": {
    "execution": {
     "iopub.execute_input": "2022-08-31T20:45:04.554864Z",
     "iopub.status.busy": "2022-08-31T20:45:04.553833Z",
     "iopub.status.idle": "2022-08-31T20:45:04.561306Z",
     "shell.execute_reply": "2022-08-31T20:45:04.560616Z",
     "shell.execute_reply.started": "2022-08-31T20:45:04.554810Z"
    }
   },
   "outputs": [],
   "source": [
    "X_test.shape"
   ]
  },
  {
   "cell_type": "code",
   "execution_count": 89,
   "metadata": {
    "execution": {
     "iopub.execute_input": "2022-08-31T20:47:10.934020Z",
     "iopub.status.busy": "2022-08-31T20:47:10.933679Z",
     "iopub.status.idle": "2022-08-31T20:47:10.994219Z",
     "shell.execute_reply": "2022-08-31T20:47:10.993446Z",
     "shell.execute_reply.started": "2022-08-31T20:47:10.933995Z"
    }
   },
   "outputs": [],
   "source": [
    "from sklearn.linear_model import LogisticRegression\n",
    "model=LogisticRegression()\n",
    "model.fit(X_train,y_train)\n",
    "pred=model.predict(X_test)"
   ]
  },
  {
   "cell_type": "code",
   "execution_count": 93,
   "metadata": {
    "execution": {
     "iopub.execute_input": "2022-08-31T20:48:25.203278Z",
     "iopub.status.busy": "2022-08-31T20:48:25.202983Z",
     "iopub.status.idle": "2022-08-31T20:48:25.210270Z",
     "shell.execute_reply": "2022-08-31T20:48:25.209398Z",
     "shell.execute_reply.started": "2022-08-31T20:48:25.203255Z"
    }
   },
   "outputs": [],
   "source": [
    "from sklearn.metrics import accuracy_score\n",
    "accuracy_score(y_test,pred)"
   ]
  },
  {
   "cell_type": "code",
   "execution_count": 94,
   "metadata": {
    "execution": {
     "iopub.execute_input": "2022-08-31T20:48:43.493429Z",
     "iopub.status.busy": "2022-08-31T20:48:43.493062Z",
     "iopub.status.idle": "2022-08-31T20:48:43.503508Z",
     "shell.execute_reply": "2022-08-31T20:48:43.502937Z",
     "shell.execute_reply.started": "2022-08-31T20:48:43.493404Z"
    }
   },
   "outputs": [],
   "source": [
    "model.score(X_test,y_test)"
   ]
  },
  {
   "cell_type": "code",
   "execution_count": 88,
   "metadata": {
    "execution": {
     "iopub.execute_input": "2022-08-31T20:46:47.883717Z",
     "iopub.status.busy": "2022-08-31T20:46:47.883352Z",
     "iopub.status.idle": "2022-08-31T20:46:47.891973Z",
     "shell.execute_reply": "2022-08-31T20:46:47.891151Z",
     "shell.execute_reply.started": "2022-08-31T20:46:47.883691Z"
    }
   },
   "outputs": [],
   "source": [
    "import joblib\n",
    "joblib.dump(model,'Stroke Prediciton.pkl')"
   ]
  }
 ],
 "metadata": {
  "kernelspec": {
   "display_name": "Python 3 (ipykernel)",
   "language": "python",
   "name": "python3"
  },
  "language_info": {
   "codemirror_mode": {
    "name": "ipython",
    "version": 3
   },
   "file_extension": ".py",
   "mimetype": "text/x-python",
   "name": "python",
   "nbconvert_exporter": "python",
   "pygments_lexer": "ipython3",
   "version": "3.9.7"
  }
 },
 "nbformat": 4,
 "nbformat_minor": 4
}
